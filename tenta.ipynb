{
 "cells": [
  {
   "cell_type": "code",
   "execution_count": null,
   "id": "669f657c",
   "metadata": {},
   "outputs": [
    {
     "name": "stdout",
     "output_type": "stream",
     "text": [
      "e\n"
     ]
    }
   ],
   "source": [
    "#uppfit 1\n",
    "\n",
    "frukter = [\"jordgubbe\", \"vindruva\", \"grape\"]  # skapa en list med tre strängar\n",
    "godfrukt = frukter[2] # hämta item från listan med index[2] alltså tredje item(grape)\n",
    "print(godfrukt[-1]) # skriv ut sista tecken av grape då fick vi e"
   ]
  },
  {
   "cell_type": "code",
   "execution_count": 7,
   "id": "75c96c75",
   "metadata": {},
   "outputs": [
    {
     "data": {
      "text/plain": [
       "\"Fel,could not convert string to float: 'kj'\""
      ]
     },
     "execution_count": 7,
     "metadata": {},
     "output_type": "execute_result"
    }
   ],
   "source": [
    "#uppgift 2\n",
    "import math\n",
    "\n",
    "def volymen(radie, höjd):\n",
    "    try:\n",
    "        radie= float(radie)\n",
    "        höjd= float (höjd)\n",
    "        return math.pi*radie*radie**2*höjd\n",
    "    except ValueError as e:\n",
    "        return f\"Fel,{e}\"  \n",
    "radie= input(\" ange radie \")   \n",
    "höjd= input(\"ange höjd\")  \n",
    "Cylinder_volymn= volymen(radie, höjd)\n",
    "Cylinder_volymn"
   ]
  },
  {
   "cell_type": "code",
   "execution_count": null,
   "id": "034ecf59",
   "metadata": {},
   "outputs": [
    {
     "name": "stdout",
     "output_type": "stream",
     "text": [
      "resultat är: [166882, 166309, 167002, 167020, 166664, 166123]\n"
     ]
    }
   ],
   "source": [
    "\"\"\"\n",
    " Simulera 1000000 tärningskast och beräkna antalet ettor, tvåor, treor, fyror, femmor och sexor. Spara\n",
    " resultatet i en lämplig datastruktur\n",
    "\"\"\"\n",
    "\n",
    "import random as ran\n",
    "resultat=[]\n",
    "dice=[ (ran.randint(1,6)) for x in range(1000000)]\n",
    "for x in range(1,7):\n",
    "    resultat.append(dice.count(x))\n",
    "print(\"resultat är:\" , resultat)"
   ]
  },
  {
   "cell_type": "code",
   "execution_count": null,
   "id": "11a1f9c7",
   "metadata": {},
   "outputs": [
    {
     "name": "stdout",
     "output_type": "stream",
     "text": [
      "Resultatet är: {1: 166459, 2: 166514, 3: 166378, 4: 167134, 5: 166645, 6: 166870}\n"
     ]
    }
   ],
   "source": [
    "import random as ran\n",
    "resultat = {i: 0 for i in range(1, 7)}  # Skapar en tom ordbok med nycklar 1–6\n",
    "for _ in range(1_000_000):\n",
    "    kast = ran.randint(1, 6)\n",
    "    resultat[kast] += 1\n",
    "\n",
    "print(\"Resultatet är:\", resultat)"
   ]
  },
  {
   "cell_type": "code",
   "execution_count": 21,
   "id": "599ad186",
   "metadata": {},
   "outputs": [
    {
     "name": "stdout",
     "output_type": "stream",
     "text": [
      "x x x x x \n",
      "x o x o x \n",
      "x x x x x \n",
      "x o x o x \n",
      "x x x x x \n"
     ]
    }
   ],
   "source": [
    "\"\"\"\n",
    " Skapa en funktion som tar in ett heltal n som parameter och skriver ut mönstret nedan.\n",
    " Exempel när n = 5:\n",
    " x x x x x \n",
    "x o x o x \n",
    "x x x x x \n",
    "x o x o x \n",
    "x x x x x \n",
    "\"\"\"\n",
    "def mönster(n):\n",
    "    for i in range(n):\n",
    "        rad = \"\"\n",
    "        for j in range(n):\n",
    "            if i % 2 == 1 and j % 2 == 1:\n",
    "                rad += \"o \"\n",
    "            else:\n",
    "                rad += \"x \"\n",
    "        print(rad)\n",
    "\n",
    "mönster(5)\n"
   ]
  }
 ],
 "metadata": {
  "kernelspec": {
   "display_name": "Python 3",
   "language": "python",
   "name": "python3"
  },
  "language_info": {
   "codemirror_mode": {
    "name": "ipython",
    "version": 3
   },
   "file_extension": ".py",
   "mimetype": "text/x-python",
   "name": "python",
   "nbconvert_exporter": "python",
   "pygments_lexer": "ipython3",
   "version": "3.13.7"
  }
 },
 "nbformat": 4,
 "nbformat_minor": 5
}

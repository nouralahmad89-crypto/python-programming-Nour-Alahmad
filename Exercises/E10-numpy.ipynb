{
 "cells": [
  {
   "cell_type": "markdown",
   "metadata": {},
   "source": [
    "<a href=\"https://colab.research.google.com/github/pr0fez/AI24-Programmering/blob/master/Exercises/E10-numpy.ipynb\" target=\"_parent\"><img align=\"left\" src=\"https://colab.research.google.com/assets/colab-badge.svg\" alt=\"Open In Colab\"/></a> &nbsp; to see hints and answers."
   ]
  },
  {
   "cell_type": "markdown",
   "metadata": {},
   "source": [
    "# Numpy exercises\n",
    "\n",
    "---\n",
    "These are introductory exercises in Python with focus in **Numpy**.\n",
    "\n",
    "<p class = \"alert alert-info\" role=\"alert\"><b>Remember</b> to use <b>descriptive variable names</b> in order to get readable code </p>\n",
    "\n",
    "<p class = \"alert alert-info\" role=\"alert\"><b>Remember</b> to format your answers in a neat way using <b>f-strings</b>\n",
    "\n",
    "<p class = \"alert alert-info\" role=\"alert\"><b>Remember</b> to format your input questions in a pedagogical way to guide the user\n",
    "\n",
    "The number of stars (\\*), (\\*\\*), (\\*\\*\\*) denotes the difficulty level of the task\n",
    "\n",
    "---"
   ]
  },
  {
   "cell_type": "markdown",
   "metadata": {},
   "source": [
    "## 1. Dice simulations (*)\n",
    "\n",
    "Simulations of one die,  \n",
    "\n",
    "&nbsp; a) Calculate theoretical mean of a dice (six-sided) (*)\n",
    "\n",
    "&nbsp; b) Now do simulations of\n",
    "\n",
    "- 10\n",
    "- 100\n",
    "- 1000\n",
    "- 10000\n",
    "- 100000\n",
    "- 1000000\n",
    "- 10000000\n",
    "\n",
    "number of dices and plot their means. (*)\n",
    "\n",
    "<details>\n",
    "\n",
    "<summary>Answer </summary>\n",
    "\n",
    "a)\n",
    "```\n",
    "3.5\n",
    "```\n",
    "\n",
    "b) \n",
    "\n",
    "<img src=\"../assets/numpy_1b.png\" width = 300>\n",
    "\n",
    "</details>\n",
    "\n",
    "\n"
   ]
  },
  {
   "cell_type": "code",
   "execution_count": null,
   "metadata": {},
   "outputs": [
    {
     "data": {
      "text/plain": [
       "0.16666666666666666"
      ]
     },
     "execution_count": 11,
     "metadata": {},
     "output_type": "execute_result"
    }
   ],
   "source": [
    "pop_mean= 1/6\n",
    "pop_mean\n"
   ]
  },
  {
   "cell_type": "code",
   "execution_count": 51,
   "metadata": {},
   "outputs": [
    {
     "data": {
      "text/plain": [
       "[<matplotlib.lines.Line2D at 0x1adf7e32850>]"
      ]
     },
     "execution_count": 51,
     "metadata": {},
     "output_type": "execute_result"
    },
    {
     "data": {
      "image/png": "[encoded data removed]",
      "text/plain": [
       "<Figure size 640x480 with 1 Axes>"
      ]
     },
     "metadata": {},
     "output_type": "display_data"
    }
   ],
   "source": [
    "import numpy as np \n",
    "import matplotlib.pylab as plt \n",
    "n= 10 \n",
    "def roll_ndice(n):\n",
    "    rng= np.random.default_rng()\n",
    "    return rng.integers(1,6,n,endpoint= True)\n",
    "mean= list()\n",
    "for n in [10**p for p in range(1,9)]:\n",
    "    mean+= [np.mean(roll_ndice(n))]\n",
    "x= list(range(len(mean)))\n",
    "plt.plot(x,mean)\n",
    "\n"
   ]
  },
  {
   "cell_type": "markdown",
   "metadata": {},
   "source": [
    "--- \n",
    "## 2. Several dices (**)\n",
    "\n",
    "&nbsp; a) Make a sample space for the sum of two dices, i.e. all possible outcomes of these dices. (*)\n",
    "\n",
    "&nbsp; b) Count the number of each values in the sample space (*)\n",
    "\n",
    "&nbsp; c) Now calculate the frequency $f_i$ for each unique value. Also check that the sum of frequencies sums to 1, i.e. $\\sum_i f_i = 1$. (*)\n",
    "\n",
    "&nbsp; d) Make a bar chart of the sum of two dices, with frequencies in y and unique values in x. This is a probability distribution of the sum of your two dices. (*)\n",
    "\n",
    "&nbsp; e) Now make barplots in subplots of sum of dices for 1 dice, 2 dices, 3 dices and 4 dices. What is the pattern that you see? (**)\n",
    "\n",
    "<details>\n",
    "\n",
    "<summary>Hint</summary>\n",
    "\n",
    "a) \n",
    "\n",
    "Here are some potentially useful methods:\n",
    "\n",
    "```py\n",
    "\n",
    "np.meshgrid(), np.add.reduce(), np.unique()\n",
    "\n",
    "```\n",
    "\n",
    "c)\n",
    "\n",
    "Divide by the total number of outcomes\n",
    "\n",
    "\n",
    "</details>\n",
    "\n",
    "<details>\n",
    "\n",
    "<summary>Answer</summary>\n",
    "\n",
    "\n",
    "a) \n",
    "\n",
    "Sample space\n",
    "\n",
    "```\n",
    "[[ 2  3  4  5  6  7]\n",
    " [ 3  4  5  6  7  8]\n",
    " [ 4  5  6  7  8  9]\n",
    " [ 5  6  7  8  9 10]\n",
    " [ 6  7  8  9 10 11]\n",
    " [ 7  8  9 10 11 12]]\n",
    "```\n",
    "\n",
    "b) \n",
    "\n",
    "Unique values:\n",
    "```\n",
    "[ 2  3  4  5  6  7  8  9 10 11 12]\n",
    "```\n",
    "\n",
    "Count: \n",
    "```\n",
    "[1 2 3 4 5 6 5 4 3 2 1]\n",
    "```\n",
    "\n",
    "c)\n",
    "\n",
    "```\n",
    "[0.028 0.056 0.083 0.111 0.139 0.167 0.139 0.111 0.083 0.056 0.028]\n",
    "```\n",
    "\n",
    "d) \n",
    "\n",
    "\n",
    "<img src=\"../assets/numpy2d.png\" width = 300>\n",
    "\n",
    "\n",
    "e) \n",
    "\n",
    "<img src=\"../assets/numpy2e.png\" width = 500>\n",
    "\n",
    "\n",
    "We see that when we sum several uniformly distributed random variables we will approach the normal distribution. This is called the central limit theorem, which we will come back to in the statistics course.\n",
    "\n",
    "</details>"
   ]
  },
  {
   "cell_type": "code",
   "execution_count": 14,
   "metadata": {},
   "outputs": [
    {
     "name": "stdout",
     "output_type": "stream",
     "text": [
      "[[ 2  3  4  5  6  7]\n",
      " [ 3  4  5  6  7  8]\n",
      " [ 4  5  6  7  8  9]\n",
      " [ 5  6  7  8  9 10]\n",
      " [ 6  7  8  9 10 11]\n",
      " [ 7  8  9 10 11 12]]\n",
      "Unika värden: [ 2  3  4  5  6  7  8  9 10 11 12]\n",
      "Antal förekomster för varje värde: [1 2 3 4 5 6 5 4 3 2 1]\n",
      "Frekvens: [0.02777778 0.05555556 0.08333333 0.11111111 0.13888889 0.16666667\n",
      " 0.13888889 0.11111111 0.08333333 0.05555556 0.02777778]\n",
      "Summan av frekvenser: 1.0\n"
     ]
    }
   ],
   "source": [
    "# alternativ 1\n",
    "import numpy as np\n",
    "\n",
    "# Alla möjliga värden för en tärning (1 till 6)\n",
    "dice = np.arange(1, 7)\n",
    "# Skapa alla möjliga kombinationer av två tärningar\n",
    "d1, d2 = np.meshgrid(dice, dice)   # Två matriser med alla kombinationer\n",
    "sample_space1 = d1 + d2             # Summan av de två tärningarna\n",
    "# Skriv ut resultatet (alla möjliga summor)\n",
    "print(sample_space1)\n",
    "\n",
    "unique_values, counts = np.unique(sample_space1, return_counts=True)\n",
    "print(\"Unika värden:\", unique_values)\n",
    "print(\"Antal förekomster för varje värde:\", counts)\n",
    "# Beräkna frekvensen (antal förekomster / totalt antal kombinationer)\n",
    "frequencies = counts / counts.sum()\n",
    "print(\"Frekvens:\", frequencies)\n",
    "print(\"Summan av frekvenser:\", frequencies.sum())\n",
    "\n"
   ]
  },
  {
   "cell_type": "code",
   "execution_count": 27,
   "metadata": {},
   "outputs": [],
   "source": [
    "#alternative 2\n",
    "\"\"\"\n",
    "import numpy as np\n",
    "\n",
    "sample_space = np.array([sum((a, b)) for a in range(1, 7) for b in range(1, 7)])\n",
    "print(sample_space)\n",
    "counts=[len(sample_space[sample_space==n]) for n in range(2,13)]\n",
    "counts\n",
    "\"\"\"\n",
    "# nu ska vi omvandla till en funkution\n",
    "def sample_space_1d6():\n",
    "    sample_space = np.array([a for a in range(1, 7)])\n",
    "    return len(sample_space),[len(sample_space[sample_space==n]) for n in range(1,7)]\n",
    "def sample_space_2d6():\n",
    "    sample_space = np.array([sum((a, b)) for a in range(1, 7) for b in range(1, 7)])\n",
    "    return len(sample_space),[len(sample_space[sample_space==n]) for n in range(2,13)]\n",
    "\n",
    "def sample_space_3d6():\n",
    "    sample_space = np.array([sum((a, b,c)) for a in range(1, 7) for b in range(1, 7) for c in range(1,7)])\n",
    "    return len(sample_space),[len(sample_space[sample_space==n]) for n in range(3,19)]\n",
    "\n",
    "def sample_space_4d6():\n",
    "    sample_space = np.array([sum((a, b,c, d)) for a in range(1, 7) for b in range(1, 7)\n",
    "                              for c in range(1,7)for d in range(1,7)])\n",
    "    return len(sample_space),[len(sample_space[sample_space==n]) for n in range(4,25)]\n",
    "sample_size_2d6 , counts2d6 =  sample_space_2d6()\n"
   ]
  },
  {
   "cell_type": "code",
   "execution_count": 29,
   "metadata": {},
   "outputs": [
    {
     "data": {
      "text/plain": [
       "([0.027777777777777776,\n",
       "  0.05555555555555555,\n",
       "  0.08333333333333333,\n",
       "  0.1111111111111111,\n",
       "  0.1388888888888889,\n",
       "  0.16666666666666666,\n",
       "  0.1388888888888889,\n",
       "  0.1111111111111111,\n",
       "  0.08333333333333333,\n",
       "  0.05555555555555555,\n",
       "  0.027777777777777776],\n",
       " 1.0)"
      ]
     },
     "execution_count": 29,
     "metadata": {},
     "output_type": "execute_result"
    }
   ],
   "source": [
    "freqs= [a/sample_size_2d6 for a in counts2d6]\n",
    "freqs, sum(freqs)"
   ]
  },
  {
   "cell_type": "code",
   "execution_count": 17,
   "metadata": {},
   "outputs": [
    {
     "data": {
      "text/plain": [
       "<BarContainer object of 11 artists>"
      ]
     },
     "execution_count": 17,
     "metadata": {},
     "output_type": "execute_result"
    },
    {
     "data": {
      "image/png": "[encoded data removed]",
      "text/plain": [
       "<Figure size 640x480 with 1 Axes>"
      ]
     },
     "metadata": {},
     "output_type": "display_data"
    }
   ],
   "source": [
    "import matplotlib.pyplot as plt\n",
    "\n",
    "plt.bar(range(2,13) , freqs , color= \"blue\")"
   ]
  },
  {
   "cell_type": "code",
   "execution_count": 30,
   "metadata": {},
   "outputs": [
    {
     "data": {
      "text/plain": [
       "<BarContainer object of 21 artists>"
      ]
     },
     "execution_count": 30,
     "metadata": {},
     "output_type": "execute_result"
    },
    {
     "data": {
      "image/png": "[encoded data removed]",
      "text/plain": [
       "<Figure size 640x480 with 4 Axes>"
      ]
     },
     "metadata": {},
     "output_type": "display_data"
    }
   ],
   "source": [
    "fig , ax = plt.subplots( 2,2)\n",
    "size_1d6 , counts_1d6 = sample_space_1d6()\n",
    "ax[0,0].bar( range(1,7 ),[a/size_1d6 for a in counts_1d6])\n",
    "size_2d6 , counts_2d6 = sample_space_2d6()\n",
    "ax[0,1].bar( range(2,13 ),[a/size_2d6 for a in counts_2d6])\n",
    "size_3d6 , counts_3d6 = sample_space_3d6()\n",
    "ax[1,0].bar( range(3,19 ),[a/size_3d6 for a in counts_3d6])\n",
    "size_4d6 , counts_4d6 = sample_space_4d6()\n",
    "ax[1,1].bar( range(4,25 ),[a/size_4d6 for a in counts_4d6])\n"
   ]
  },
  {
   "cell_type": "markdown",
   "metadata": {},
   "source": [
    "--- \n",
    "## 3. Monte Carlo simulation (**)\n",
    "\n",
    "This task has been done in earlier exercise, but now you should do this without any loops. Note that this has enormous performance gain compared to using loops. \n",
    "\n",
    "&nbsp; a) Simulate 500000 uniformly distributed points between -1 and 1, $X\\sim U(-1,1)$. Now calculate the Euclidean distances between each point and the origin (0,0), $d_i = \\sqrt{x_i^2 + y_i^2}$. For $d_i < 1$ plot the point with one color, and for $d_i > 1$ plot the point in another color, $i = \\{1,\\ldots, 500000\\}$.  (**)\n",
    "\n",
    "&nbsp; b) Calculate the fraction between number of inner points and number of outer points. What do you this will converge to when number of points reaches infinity? (**)\n",
    "\n",
    "\n",
    "<details>\n",
    "\n",
    "<summary>Hint</summary>\n",
    "\n",
    "a) \n",
    "\n",
    "Read about numpy random and see if there are some useful methods to use. Also read about \n",
    "\n",
    "```\n",
    "np.linalg.norm()\n",
    "```\n",
    "\n",
    "b)\n",
    "\n",
    "Think in terms of theoretical areas.\n",
    "\n",
    "</details>\n",
    "\n",
    "<details>\n",
    "\n",
    "<summary>Answer</summary>\n",
    "\n",
    "\n",
    "a) \n",
    "\n",
    "<img src=\"../assets/MC_simulation_500k.png\" width = 300>\n",
    "\n",
    "\n",
    "b) \n",
    "\n",
    "0.784724\n",
    "\n",
    "No answer here, try to prove it theoretically. \n",
    "\n",
    "\n",
    "</details>"
   ]
  }
 ],
 "metadata": {
  "kernelspec": {
   "display_name": "Python 3",
   "language": "python",
   "name": "python3"
  },
  "language_info": {
   "codemirror_mode": {
    "name": "ipython",
    "version": 3
   },
   "file_extension": ".py",
   "mimetype": "text/x-python",
   "name": "python",
   "nbconvert_exporter": "python",
   "pygments_lexer": "ipython3",
   "version": "3.13.7"
  },
  "orig_nbformat": 4
 },
 "nbformat": 4,
 "nbformat_minor": 2
}

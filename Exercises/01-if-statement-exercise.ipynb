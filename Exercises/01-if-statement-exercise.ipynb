{
 "cells": [
  {
   "cell_type": "markdown",
   "metadata": {},
   "source": [
    "\n",
    "<a href=\"https://colab.research.google.com/github/pr0fez/AI24-Programmering/blob/master/Exercises/01-if-statement-exercise.ipynb\" target=\"_parent\"><img align=\"left\" src=\"https://colab.research.google.com/assets/colab-badge.svg\" alt=\"Open In Colab\"/></a> &nbsp; to see hints and answers."
   ]
  },
  {
   "cell_type": "markdown",
   "metadata": {},
   "source": [
    "# if statements exercises\n",
    "\n",
    "---\n",
    "These are introductory exercises in Python with focus in **if** statement.\n",
    "\n",
    "<p class = \"alert alert-info\" role=\"alert\"><b>Remember</b> to use <b>descriptive variable names</b> in order to get readable code </p>\n",
    "\n",
    "<p class = \"alert alert-info\" role=\"alert\"><b>Remember</b> to format your answers in a neat way using <b>f-strings</b>\n",
    "\n",
    "<p class = \"alert alert-info\" role=\"alert\"><b>Remember</b> to format your input questions in a pedagogical way to guide the user\n",
    "\n",
    "The number of stars (\\*), (\\*\\*), (\\*\\*\\*) denotes the difficulty level of the task\n",
    "\n",
    "---"
   ]
  },
  {
   "cell_type": "markdown",
   "metadata": {},
   "source": [
    "## 1. Check sign (*)\n",
    "\n",
    "Ask the user to input a number and check if this number is **positive**, **negative** or **zero** and print it."
   ]
  },
  {
   "cell_type": "code",
   "execution_count": 7,
   "metadata": {},
   "outputs": [
    {
     "name": "stdout",
     "output_type": "stream",
     "text": [
      "0 är Zero\n"
     ]
    }
   ],
   "source": [
    "\n",
    "\n",
    "Number = int (input( \"input a Number\"))\n",
    "if Number > 0:\n",
    "    print(f\"{Number} är Positive\")\n",
    "elif Number < 0 :\n",
    "    print (f\"{Number} är negative\")\n",
    "else :\n",
    "    print(f\"{ Number} är Zero\")\n"
   ]
  },
  {
   "cell_type": "code",
   "execution_count": null,
   "metadata": {},
   "outputs": [],
   "source": [
    "import numpy as np\n",
    "i= int(input(\"Input a number\"))\n",
    "sign=np.sign()\n"
   ]
  },
  {
   "cell_type": "markdown",
   "metadata": {},
   "source": [
    "---\n",
    "## 2. Smallest (*)\n",
    "Ask the user to input two numbers and check which one is the smallest and print it out.   "
   ]
  },
  {
   "cell_type": "code",
   "execution_count": 8,
   "metadata": {},
   "outputs": [
    {
     "name": "stdout",
     "output_type": "stream",
     "text": [
      "insert two numbers\n",
      "5 is the smallest\n"
     ]
    }
   ],
   "source": [
    "# check which number is larger\n",
    "print( \"insert two numbers\")\n",
    "N1 = int (input(\" First Number=\"))\n",
    "N2 = int ( input(\"Second Number=\"))\n",
    "if N1>N2:\n",
    "    print(f\"{N2} is the smallest\")\n",
    "else:\n",
    "   print(f\"{N1} is the smallest\")\n",
    "    "
   ]
  },
  {
   "cell_type": "markdown",
   "metadata": {},
   "source": [
    "---\n",
    "## 3. Right angle (*)\n",
    "\n",
    "Ask the user to input three angles and check if the triangle has a right angle. Your code should make sure that all three angles are valid and make up a triangle.\n",
    "\n",
    "<img align=\"left\" src=\"../assets/triangle_angles.png\" width=\"200\"/>"
   ]
  },
  {
   "cell_type": "code",
   "execution_count": 13,
   "metadata": {},
   "outputs": [
    {
     "name": "stdout",
     "output_type": "stream",
     "text": [
      "The triangle does not have a right angle\n"
     ]
    }
   ],
   "source": [
    "# figure om the triangle has a right angle\n",
    "# Input three angles \n",
    "A1 = int(input( \"Enter first angel=\"))\n",
    "A2 = int(input ( \"Enter second angel=\"))\n",
    "A3 = int(input( \"Enter third angel=\")) \n",
    "# control validation\n",
    "if (A1 > 0 and A2 > 0 and A3 > 0) and (A1 + A2 + A3 == 180):\n",
    "    if A1 == 90 or A2 == 90 or A3 == 90:\n",
    "        print(\"The triangle has a right angle\")\n",
    "    else:\n",
    "        print(\"The triangle does not have a right angle\")\n",
    "else:\n",
    "    print(\"Not a valid triangle\")"
   ]
  },
  {
   "cell_type": "code",
   "execution_count": 25,
   "metadata": {},
   "outputs": [
    {
     "name": "stdout",
     "output_type": "stream",
     "text": [
      "input three angles\n",
      "Triangle has a straight angle\n"
     ]
    }
   ],
   "source": [
    "\n",
    "print(\"input three angles\")\n",
    "a,b,c =float(input()) ,float( input ()) ,float(input ())\n",
    "if sum ([a,b,c]) != 180:\n",
    "    print(\" Angles do not form a traingle\")\n",
    "elif a== 90 or b==90 or c==90:\n",
    "    print(\"Triangle has a straight angle\")\n"
   ]
  },
  {
   "cell_type": "markdown",
   "metadata": {},
   "source": [
    "----\n",
    "## 4. Medicine (*)\n",
    "\n",
    "The information in the following table is stated in a medicine package. Also it is stated that for children weight is more important than age.\n",
    "\n",
    "<table align=\"left\">\n",
    "<thead>\n",
    "    <tr>\n",
    "        <th></th>\n",
    "        <th>Age</th>\n",
    "        <th>Number of pills</th>\n",
    "    </tr>\n",
    "</thead>\n",
    "\n",
    "<tbody>\n",
    "  <tr>\n",
    "    <td>Adults & adolescent <br>over 40 kg</td>\n",
    "    <td>over 12 years</td>\n",
    "    <td>1-2</td>\n",
    "  </tr>\n",
    "\n",
    "  <tr>\n",
    "    <td>Children 26-40 kg</td>\n",
    "    <td>7-12 years</td>\n",
    "    <td>1/2-1</td>\n",
    "  </tr>\n",
    "\n",
    "  <tr>\n",
    "    <td>Children 15-25 kg</td>\n",
    "    <td>3-7 years</td>\n",
    "    <td>1/2</td>\n",
    "  </tr>\n",
    "</tbody>\n",
    "</table>"
   ]
  },
  {
   "cell_type": "markdown",
   "metadata": {},
   "source": [
    "Let the user input an **age** and a **weight**, the program should recommend the number of pills for the user."
   ]
  },
  {
   "cell_type": "code",
   "execution_count": 23,
   "metadata": {},
   "outputs": [
    {
     "name": "stdout",
     "output_type": "stream",
     "text": [
      "midecin is not for this old and weight\n"
     ]
    }
   ],
   "source": [
    "# decide the correct dose for pacient\n",
    "# input age and weight \n",
    "Age = int (input(\"Age=\"))\n",
    "Weight = int(input(\"weight=\"))\n",
    "if 3<=Age<=7 or 15<=Weight<=25:\n",
    "    print(\"paceint take 1/2 tablet\") \n",
    "elif 7<=Age<=12 or 26<=Weight<=40 :\n",
    "    print(\"pacient take 1/2- 1 tablet\")\n",
    "elif Age>=12 or Weight>=40:\n",
    "    print(\"pacient take 1-2 tablet\")\n",
    "else:\n",
    "    print(\"midecin is not for this old and weight\")\n",
    "          \n"
   ]
  },
  {
   "cell_type": "markdown",
   "metadata": {},
   "source": [
    "---\n",
    "## 5. Divisible (*)\n",
    "Let the user input a number. Check if the number is\n",
    "<ol type=\"a\">\n",
    "  <li>even or odd</li>\n",
    "  <li>is divisible by 5</li>\n",
    "  <li>is divisble by 5 and odd</li>\n",
    "</ol> "
   ]
  },
  {
   "cell_type": "code",
   "execution_count": null,
   "metadata": {},
   "outputs": [
    {
     "name": "stdout",
     "output_type": "stream",
     "text": [
      "5number is odd\n",
      "5 is divisable by 5\n",
      "5 is divisbale by 5 and odd\n"
     ]
    }
   ],
   "source": [
    "# input a numder \n",
    "N= int(input(\"input a number\"))\n",
    "if  N%2==0 :\n",
    "    print(f\"{N} is even\")\n",
    "else:\n",
    "     print(f\"{N}number is odd\")\n",
    "     # Check if divisible by 5 \n",
    "     if N%5==0:\n",
    "        print(f\"{N} is divisable by 5\")\n",
    "        # Check if divisible by 5 AND odd\n",
    "        if N%5==0 and N%2!=0:\n",
    "            print(f\"{N} is divisbale by 5 and odd\")\n",
    "      \n",
    "   "
   ]
  },
  {
   "cell_type": "markdown",
   "metadata": {},
   "source": [
    "---\n",
    "## 6. Luggage size (*)\n",
    "\n",
    "The maximum allowed luggage size for boarding an airplane is: \n",
    "- weight: 8kg\n",
    "- dimensions: 55x40x23cm (length x width x height) \n",
    "\n",
    "Let the user input weight, length, width and height of the luggage. The program should check if the luggage is allowed or not."
   ]
  },
  {
   "cell_type": "code",
   "execution_count": 2,
   "metadata": {},
   "outputs": [
    {
     "name": "stdout",
     "output_type": "stream",
     "text": [
      "allowed luggage\n"
     ]
    }
   ],
   "source": [
    "#check the maximum allowed luggage\n",
    "# input dimensions\n",
    "W = float(input(\"Weight=\"))\n",
    "L = float(input(\"Length=\"))\n",
    "w = float(input(\"Length=\"))\n",
    "H = float (input(\"Height=\"))\n",
    "if W<=8 and L<=55 and w<=40 and H<=23:\n",
    "    print(\"allowed luggage\")\n",
    "else:\n",
    "    print(\"Not allowed luggage\")"
   ]
  }
 ],
 "metadata": {
  "kernelspec": {
   "display_name": "Python 3",
   "language": "python",
   "name": "python3"
  },
  "language_info": {
   "codemirror_mode": {
    "name": "ipython",
    "version": 3
   },
   "file_extension": ".py",
   "mimetype": "text/x-python",
   "name": "python",
   "nbconvert_exporter": "python",
   "pygments_lexer": "ipython3",
   "version": "3.13.7"
  },
  "orig_nbformat": 4
 },
 "nbformat": 4,
 "nbformat_minor": 2
}

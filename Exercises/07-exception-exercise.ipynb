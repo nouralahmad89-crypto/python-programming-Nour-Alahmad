{
 "cells": [
  {
   "cell_type": "markdown",
   "metadata": {},
   "source": [
    "<a href=\"https://colab.research.google.com/github/pr0fez/AI24-Programmering/blob/master/Exercises/07-exception-exercise.ipynb\" target=\"_parent\"><img align=\"left\" src=\"https://colab.research.google.com/assets/colab-badge.svg\" alt=\"Open In Colab\"/></a> &nbsp; to see hints and answers."
   ]
  },
  {
   "cell_type": "markdown",
   "metadata": {},
   "source": [
    "# Error handling exercises\n",
    "\n",
    "---\n",
    "These are introductory exercises in Python with focus in **error handling** statement.\n",
    "\n",
    "<p class = \"alert alert-info\" role=\"alert\"><b>Remember</b> to use <b>descriptive variable and function names</b> in order to get readable code </p>\n",
    "\n",
    "<p class = \"alert alert-info\" role=\"alert\"><b>Remember</b> to format your answers in a neat way using <b>f-strings</b>\n",
    "\n",
    "<p class = \"alert alert-info\" role=\"alert\"><b>Remember</b> to format your input questions in a pedagogical way to guide the user\n",
    "\n",
    "The number of stars (\\*), (\\*\\*), (\\*\\*\\*) denotes the difficulty level of the task\n",
    "\n",
    "---"
   ]
  },
  {
   "cell_type": "markdown",
   "metadata": {},
   "source": [
    "## 1. Find errors (*)\n",
    "\n",
    "Find the errors in this code to compute the distance between the point $(x,y)$ and the origin in a cartesian coordinate system.\n",
    "\n",
    "```python\n",
    "impor numpy as np\n",
    "\n",
    "def distance(x,y)\n",
    "    reurn np.sqrt(x+y)\n",
    "\n",
    "print(distance([0.5, 0.5]))\n",
    "\n",
    "```\n",
    "\n",
    "<details>\n",
    "\n",
    "<summary>Hint </summary>\n",
    "\n",
    "Also look for logical errors. \n",
    "\n",
    "</details>\n",
    "<br>\n",
    "<details>\n",
    "\n",
    "<summary>Answer </summary>\n",
    "\n",
    "```\n",
    "The distance between (0.5, 0.5) and origin is around 0.707.\n",
    "```\n",
    "\n",
    "</details>\n"
   ]
  },
  {
   "cell_type": "code",
   "execution_count": 12,
   "metadata": {},
   "outputs": [
    {
     "name": "stdout",
     "output_type": "stream",
     "text": [
      "0.707\n"
     ]
    }
   ],
   "source": [
    "import numpy as np\n",
    "\n",
    "def distance(x,y):\n",
    "    return np.sqrt(np.power(x,2)+ np.power(y,2))\n",
    "\n",
    "d=distance(0.5, 0.5)    \n",
    "\n",
    "print(f\"{d:.3f}\")"
   ]
  },
  {
   "cell_type": "markdown",
   "metadata": {},
   "source": [
    "---\n",
    "## 2. Find errors (*)\n",
    "\n",
    "Find the errors in this code. Just change the function, don't touch the test program.\n",
    "\n",
    "```python\n",
    "\n",
    "def is_fourdigit(number):\n",
    "    if number//1000 < 10\n",
    "        return true\n",
    "    else \n",
    "        return false\n",
    "\n",
    "# test program\n",
    "test_numbers = [231, 3124, -4124, -1000,-999, 1001, 10000, -10000, 999]\n",
    "\n",
    "for number in test_numbers:\n",
    "    if is_fourdigit(number):\n",
    "        print(f\"{number} is four-digit\")\n",
    "    else:\n",
    "        print(f\"{number} is not four-digit\")\n",
    "\n",
    "```\n",
    "\n",
    "<details>\n",
    "\n",
    "<summary>Hint </summary>\n",
    "\n",
    "Print out and test different cases to build up the condition in the if-statement\n",
    "\n",
    "</details>\n",
    "<br>\n",
    "<details>\n",
    "\n",
    "<summary>Answer </summary>\n",
    "\n",
    "```\n",
    "\n",
    "231 is not four-digit\n",
    "3124 is four-digit\n",
    "-4124 is four-digit\n",
    "-1000 is four-digit\n",
    "-999 is not four-digit\n",
    "1001 is four-digit\n",
    "10000 is not four-digit\n",
    "-10000 is not four-digit\n",
    "999 is not four-digit\n",
    "\n",
    "```\n",
    "\n",
    "</details>\n"
   ]
  },
  {
   "cell_type": "code",
   "execution_count": 4,
   "metadata": {},
   "outputs": [
    {
     "name": "stdout",
     "output_type": "stream",
     "text": [
      "231 is not four-digit\n",
      "3124 is four-digit\n",
      "-4124 is four-digit\n",
      "-1000 is not four-digit\n",
      "-999 is not four-digit\n",
      "1001 is not four-digit\n",
      "10000 is not four-digit\n",
      "-10000 is not four-digit\n",
      "999 is not four-digit\n"
     ]
    }
   ],
   "source": [
    "def is_fourdigit(number):\n",
    "    if 1< number//1000 < 10 or -10< number// 1000 <-1:\n",
    "        return True\n",
    "    else:\n",
    "        return False\n",
    "        # test program\n",
    "test_numbers = [231, 3124, -4124, -1000,-999, 1001, 10000, -10000, 999]\n",
    "for number in test_numbers:\n",
    "    if is_fourdigit(number):\n",
    "        print(f\"{number} is four-digit\")\n",
    "    else:\n",
    "        print(f\"{number} is not four-digit\")"
   ]
  },
  {
   "cell_type": "markdown",
   "metadata": {},
   "source": [
    "---\n",
    "## 3. Tram (*)\n",
    "\n",
    "pr0fez is a **clumpsy** computer user that doesn't take trams too often. Write a program to prompt the user for: \n",
    "- number of times he/she wants to take tram in one month\n",
    "- cost for one ticket\n",
    "- cost for monthly card\n",
    "\n",
    "The program should calculate if it's worth for him to buy  monthly card or not. Make the program user friendly with clear error messages and ask again in case of input errors. \n",
    "\n",
    "<details>\n",
    "\n",
    "<summary>Hint </summary>\n",
    "\n",
    "Raise user friendly exceptions to guide the user to give right input format.\n",
    "\n",
    "</details>\n",
    "<br>\n",
    "<details>\n",
    "\n",
    "<summary>Answer </summary>\n",
    "\n",
    "For example: \n",
    "\n",
    "```\n",
    "How many times do you take tram in one month? -23\n",
    "Number of times you take tram must be between 0 and 100\n",
    "\n",
    "How much does one ticket cost? (kr) 1000\n",
    "One ticket must cost between 0 and 100 kr\n",
    "\n",
    "How many times do you take tram in one month? 23\n",
    "How much does one ticket cost? (kr) 35\n",
    "How much does one month card cost? (kr) 600\n",
    "\n",
    "Cost with one-time tickets 805.0\n",
    "Cost with monthly card 600.0\n",
    "It's worth to buy a monthly card\n",
    "\n",
    "```\n",
    "\n",
    "</details>\n"
   ]
  },
  {
   "cell_type": "code",
   "execution_count": 10,
   "metadata": {},
   "outputs": [
    {
     "name": "stdout",
     "output_type": "stream",
     "text": [
      "Välkommen till Spårvagnskostnadsberäknaren!\n",
      "\n",
      "invalid literal for int() with base 10: 'ha'\n",
      "could not convert string to float: 'uy'\n",
      "\n",
      "Totalkostnad för enkelbiljetter: 712.0 kr\n",
      "Kostnad för månadskort: 789.0 kr\n",
      "Det är billigare att köpa enkelbiljetter.\n"
     ]
    }
   ],
   "source": [
    "# Funktion för att läsa in ett heltal från användaren med kontroll av intervall\n",
    "def get_int_input(prompt, min_val, max_val):\n",
    "    while True:\n",
    "        try:\n",
    "            value = int(input(prompt))  # Konvertera input till heltal\n",
    "            if value < min_val or value > max_val:  # Kontrollera intervall\n",
    "                raise ValueError(f\"Värdet måste vara mellan {min_val} och {max_val}.\")\n",
    "            return value\n",
    "        except ValueError as e:\n",
    "            print(e)  # Skriv ut felmeddelande och fråga igen\n",
    "\n",
    "# Funktion för att läsa in ett flyttal från användaren med kontroll av intervall\n",
    "def get_float_input(prompt, min_val, max_val):\n",
    "    while True:\n",
    "        try:\n",
    "            value = float(input(prompt))  # Konvertera input till flyttal\n",
    "            if value < min_val or value > max_val:  # Kontrollera intervall\n",
    "                raise ValueError(f\"Värdet måste vara mellan {min_val} och {max_val}.\")\n",
    "            return value\n",
    "        except ValueError as e:\n",
    "            print(e)  # Skriv ut felmeddelande och fråga igen\n",
    "\n",
    "# Huvudprogrammet\n",
    "print(\"Välkommen till Spårvagnskostnadsberäknaren!\\n\")\n",
    "\n",
    "# Användarinmatning med kontroll\n",
    "times = get_int_input(\"Hur många gånger tar du spårvagn på en månad? \", 0, 100)\n",
    "ticket_cost = get_float_input(\"Hur mycket kostar en enkelbiljett? (kr) \", 0, 100)\n",
    "monthly_card_cost = get_float_input(\"Hur mycket kostar ett månadskort? (kr) \", 0, 10000)\n",
    "\n",
    "# Beräkna kostnaden för enkelbiljetter\n",
    "total_ticket_cost = times * ticket_cost\n",
    "\n",
    "# Skriv ut resultat\n",
    "print(f\"\\nTotalkostnad för enkelbiljetter: {total_ticket_cost} kr\")\n",
    "print(f\"Kostnad för månadskort: {monthly_card_cost} kr\")\n",
    "\n",
    "# Jämför kostnader och ge rekommendation\n",
    "if total_ticket_cost > monthly_card_cost:\n",
    "    print(\"Det är värt att köpa ett månadskort.\")  # Månadskortet är billigare\n",
    "elif total_ticket_cost == monthly_card_cost:\n",
    "    print(\"Kostnaden är densamma. Du kan välja vilket alternativ som helst.\")  # Kostnaden är lika\n",
    "else:\n",
    "    print(\"Det är billigare att köpa enkelbiljetter.\")  # Enkelbiljetter är billigare\n"
   ]
  },
  {
   "cell_type": "code",
   "execution_count": null,
   "metadata": {},
   "outputs": [
    {
     "name": "stdout",
     "output_type": "stream",
     "text": [
      "['ArithmeticError', 'AssertionError', 'AttributeError', 'BaseException', 'BaseExceptionGroup', 'BlockingIOError', 'BrokenPipeError', 'BufferError', 'BytesWarning', 'ChildProcessError', 'ConnectionAbortedError', 'ConnectionError', 'ConnectionRefusedError', 'ConnectionResetError', 'DeprecationWarning', 'EOFError', 'Ellipsis', 'EncodingWarning', 'EnvironmentError', 'Exception', 'ExceptionGroup', 'False', 'FileExistsError', 'FileNotFoundError', 'FloatingPointError', 'FutureWarning', 'GeneratorExit', 'IOError', 'ImportError', 'ImportWarning', 'IndentationError', 'IndexError', 'InterruptedError', 'IsADirectoryError', 'KeyError', 'KeyboardInterrupt', 'LookupError', 'MemoryError', 'ModuleNotFoundError', 'NameError', 'None', 'NotADirectoryError', 'NotImplemented', 'NotImplementedError', 'OSError', 'OverflowError', 'PendingDeprecationWarning', 'PermissionError', 'ProcessLookupError', 'PythonFinalizationError', 'RecursionError', 'ReferenceError', 'ResourceWarning', 'RuntimeError', 'RuntimeWarning', 'StopAsyncIteration', 'StopIteration', 'SyntaxError', 'SyntaxWarning', 'SystemError', 'SystemExit', 'TabError', 'TimeoutError', 'True', 'TypeError', 'UnboundLocalError', 'UnicodeDecodeError', 'UnicodeEncodeError', 'UnicodeError', 'UnicodeTranslateError', 'UnicodeWarning', 'UserWarning', 'ValueError', 'Warning', 'WindowsError', 'ZeroDivisionError', '_IncompleteInputError', '__IPYTHON__', '__build_class__', '__debug__', '__doc__', '__import__', '__loader__', '__name__', '__package__', '__spec__', 'abs', 'aiter', 'all', 'anext', 'any', 'ascii', 'bin', 'bool', 'breakpoint', 'bytearray', 'bytes', 'callable', 'chr', 'classmethod', 'compile', 'complex', 'copyright', 'credits', 'delattr', 'dict', 'dir', 'display', 'divmod', 'enumerate', 'eval', 'exec', 'execfile', 'filter', 'float', 'format', 'frozenset', 'get_ipython', 'getattr', 'globals', 'hasattr', 'hash', 'help', 'hex', 'id', 'input', 'int', 'isinstance', 'issubclass', 'iter', 'len', 'license', 'list', 'locals', 'map', 'max', 'memoryview', 'min', 'next', 'object', 'oct', 'open', 'ord', 'pow', 'print', 'property', 'range', 'repr', 'reversed', 'round', 'runfile', 'set', 'setattr', 'slice', 'sorted', 'staticmethod', 'str', 'sum', 'super', 'tuple', 'type', 'vars', 'zip']\n"
     ]
    }
   ],
   "source": [
    "print(dir(locals()['__builtins__'])) #  view all the built-in exceptions"
   ]
  }
 ],
 "metadata": {
  "kernelspec": {
   "display_name": "Python 3",
   "language": "python",
   "name": "python3"
  },
  "language_info": {
   "codemirror_mode": {
    "name": "ipython",
    "version": 3
   },
   "file_extension": ".py",
   "mimetype": "text/x-python",
   "name": "python",
   "nbconvert_exporter": "python",
   "pygments_lexer": "ipython3",
   "version": "3.13.7"
  },
  "orig_nbformat": 4
 },
 "nbformat": 4,
 "nbformat_minor": 2
}

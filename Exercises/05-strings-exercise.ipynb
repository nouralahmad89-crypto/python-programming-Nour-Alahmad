{
 "cells": [
  {
   "cell_type": "markdown",
   "metadata": {},
   "source": [
    "<a href=\"https://colab.research.google.com/github/pr0fez/AI24-Programmering/blob/master/Exercises/05-strings-exercise.ipynb\" target=\"_parent\"><img align=\"left\" src=\"https://colab.research.google.com/assets/colab-badge.svg\" alt=\"Open In Colab\"/></a> &nbsp; to see hints and answers."
   ]
  },
  {
   "cell_type": "markdown",
   "metadata": {},
   "source": [
    "# strings exercises\n",
    "\n",
    "---\n",
    "These are introductory exercises in Python with focus in **strings**.\n",
    "\n",
    "<p class = \"alert alert-info\" role=\"alert\"><b>Remember</b> to use <b>descriptive variable names</b> in order to get readable code </p>\n",
    "\n",
    "<p class = \"alert alert-info\" role=\"alert\"><b>Remember</b> to format your answers in a neat way using <b>f-strings</b>\n",
    "\n",
    "<p class = \"alert alert-info\" role=\"alert\"><b>Remember</b> to format your input questions in a pedagogical way to guide the user\n",
    "\n",
    "The number of stars (\\*), (\\*\\*), (\\*\\*\\*) denotes the difficulty level of the task\n",
    "\n",
    "---"
   ]
  },
  {
   "cell_type": "markdown",
   "metadata": {},
   "source": [
    "## 1. Counting letters (*)\n",
    "\n",
    "Let the user input a word: \n",
    "\n",
    "&nbsp; a) &nbsp; print out the number of letters in the word. (*) \n",
    "  \n",
    "&nbsp; b) &nbsp; print out the number of **uppercase** and **lowercase** letters of the word (*)   \n"
   ]
  },
  {
   "cell_type": "code",
   "execution_count": null,
   "metadata": {},
   "outputs": [
    {
     "name": "stdout",
     "output_type": "stream",
     "text": [
      "Number of letters in the wordkjghgjhffLK is  11\n",
      "number of upper letters in the wordkjghgjhffLK is 2\n",
      "number of lower letters in the wordkjghgjhffLK is 9\n"
     ]
    }
   ],
   "source": [
    "word= input(\"enter your word , that you want\") #Be användaren att skriva ett ord\n",
    "number_letter= len(word) # Räkna antalet tecken i ordet (inklusive alla bokstäver och symboler\n",
    "print(f\"Number of letters in the word{word} is  {number_letter}\")\n",
    "# Skapa räknare för stora och små bokstäver\n",
    "count_upper=0\n",
    "count_lower=0\n",
    "# Gå igenom varje tecken i ordet\n",
    "for letter in word:\n",
    "    if letter.isupper():\n",
    "        count_upper+=1\n",
    "    elif letter.islower():\n",
    "        count_lower+=1\n",
    "    else:  # none alphabet letters\n",
    "        continue # hoppa över\n",
    "# Skriv ut resultaten\n",
    "print(f\"number of upper letters in the word{word} is {count_upper}\")\n",
    "print(f\"number of lower letters in the word{word} is {count_lower}\" )     \n",
    "                \n"
   ]
  },
  {
   "cell_type": "markdown",
   "metadata": {},
   "source": [
    "---\n",
    "## 2. Counting words (*)\n",
    "\n",
    "Count the number of words in this sentence: \"A picture says more than a thousand words, a matematical formula says more than a thousand pictures.\" (*) \n",
    "\n",
    "<details>\n",
    "\n",
    "<summary>Answer</summary>\n",
    "\n",
    "```\n",
    "There are 17 words in that sentence\n",
    "```"
   ]
  },
  {
   "cell_type": "code",
   "execution_count": 5,
   "metadata": {},
   "outputs": [
    {
     "name": "stdout",
     "output_type": "stream",
     "text": [
      "Antalet ord i meningen är: 17\n"
     ]
    }
   ],
   "source": [
    "sentence=\"A picture says more than a thousand words, a matematical formula says more than a thousand pictures\"\n",
    "count_word=0\n",
    "sentence= sentence.strip().split()\n",
    "count_word=len(sentence)   \n",
    "# Skriv ut resultatet\n",
    "print(f\"Antalet ord i meningen är: {count_word}\")"
   ]
  },
  {
   "cell_type": "markdown",
   "metadata": {},
   "source": [
    "---\n",
    "## 3. Palindrome (*)\n",
    "\n",
    "A palindrome is a sequence of characters that is the same, when read forward as backwards (ignoring spaces). For example:\n",
    "- \"Anna\" is a palindrome\n",
    "- \"Ni talar bra latin\"\n",
    "- bjkjb \n",
    "\n",
    "Let the user input a sequence of characters and check if it is a palindrome. (*)"
   ]
  },
  {
   "cell_type": "code",
   "execution_count": 6,
   "metadata": {},
   "outputs": [
    {
     "name": "stdout",
     "output_type": "stream",
     "text": [
      "it's Plaindrome\n"
     ]
    }
   ],
   "source": [
    "def check_palindrome(txt):\n",
    "    clean=txt.replace(\" \", \"\").casefold()\n",
    "    if clean== clean[::-1]:\n",
    "        print(\"it's Plaindrome\")\n",
    "    else:\n",
    "        print(\"it is not Palindrome\")\n",
    "\n",
    "txt= input(\"Enter your text to check if it Plaindrome\") \n",
    "check_palindrome(txt)\n",
    "  "
   ]
  },
  {
   "cell_type": "markdown",
   "metadata": {},
   "source": [
    "---\n",
    "## 4. Vowels (**)\n",
    "\n",
    "Count the number of vowels in this sentence: \"Pure mathematics is, in its way, the poetry of logical ideas\"\n",
    "\n",
    "<details>\n",
    "\n",
    "<summary>Answer</summary>\n",
    "\n",
    "```\n",
    "\n",
    "There are 22 vowels in this sentence\n",
    "\n",
    "```\n",
    "</details>"
   ]
  },
  {
   "cell_type": "code",
   "execution_count": null,
   "metadata": {},
   "outputs": [
    {
     "name": "stdout",
     "output_type": "stream",
     "text": [
      "There are 21 vowels in the sentence: Pure mathematics is, in its waY, the poetry of logical ideas\n"
     ]
    }
   ],
   "source": [
    "count= 0\n",
    "sentence=\"Pure mathematics is, in its way, the poetry of logical ideas\"\n",
    "vowels=[\"a\",\"e\", \"i\" , \"u\", \"o\", \"y\"]\n",
    "for char in sentence.casefold(): # convert sentence to lower case to catch all vowels\n",
    "    if char in vowels:\n",
    "        count+=1\n",
    "print(f\"There are {count} vowels in the sentence: {sentence}\")        "
   ]
  },
  {
   "cell_type": "markdown",
   "metadata": {},
   "source": [
    "---\n",
    "## 5. Encryption (**)\n",
    "\n",
    "Let the user input a word and: \n",
    "\n",
    "&nbsp; a) &nbsp; encrypt the message by replacing each letter with the next letter. If the letter is in the end of the alphabet, use the first letter instead. \n",
    "\n",
    "e.g. in Swedish: \"höst\" $\\rightarrow$ \"iatu\"\n",
    "\n",
    "&nbsp; b) &nbsp; decrypt the message\n",
    "\n",
    "&nbsp; c) &nbsp; let the user choose either encryption or decryption."
   ]
  },
  {
   "cell_type": "code",
   "execution_count": 1,
   "metadata": {},
   "outputs": [
    {
     "name": "stdout",
     "output_type": "stream",
     "text": [
      "Result: opvs\n"
     ]
    }
   ],
   "source": [
    "import string\n",
    "\n",
    "def encrypt(message):\n",
    "   \n",
    "    message = message.casefold()  # Convert to lowercase\n",
    "    swedish_letters = \"abcdefghijklmnopqrstuvwxyzåäö\"\n",
    "    shifted_letters = swedish_letters[1:] + swedish_letters[0] # Shifted alphabet (+1)\n",
    "    table = str.maketrans(swedish_letters, shifted_letters) # Translation table for letters only\n",
    "    encrypted = message.translate(table) # Apply translation\n",
    "    return encrypted  # Return encrypted message (special chars, numbers stay unchanged)\n",
    "\n",
    "# let user enter a word\n",
    "#word= input(\"enter a word to encrypte it\")\n",
    "#print(encrypt(word))\n",
    "\n",
    "def decrypt(message):\n",
    "    \n",
    "    message = message.casefold()  # Convert to lowercase\n",
    "    # Swedish alphabet\n",
    "    swedish_letters = \"abcdefghijklmnopqrstuvwxyzåäö\"\n",
    "    # Shift letters backward by 1\n",
    "    shifted_letters = swedish_letters[-1] + swedish_letters[:-1]\n",
    "    # Create translation table for letters only\n",
    "    table = str.maketrans(swedish_letters, shifted_letters)\n",
    "    # Apply translation (numbers and special characters stay unchanged)\n",
    "    decrypted = message.translate(table)\n",
    "    return decrypted\n",
    "# let user enter a word\n",
    "#word= input(\"enter a word to encrypte it\")\n",
    "#print(encrypt(word))\n",
    "\n",
    "def shift_letters(message, direction):\n",
    "    \"\"\"\n",
    "    Encrypts or decrypts a Swedish message by shifting letters.\n",
    "    direction: 1 = encrypt (shift +1), 0 = decrypt (shift -1)\n",
    "    Numbers and special characters remain unchanged.\n",
    "    \"\"\"\n",
    "    message = message.casefold()  # Convert to lowercase\n",
    "    swedish_letters = \"abcdefghijklmnopqrstuvwxyzåäö\"\n",
    "\n",
    "    if direction == 1:\n",
    "        # Shift forward (encryption)\n",
    "        shifted_letters = swedish_letters[1:] + swedish_letters[0]\n",
    "    elif direction == 0:\n",
    "        # Shift backward (decryption)\n",
    "        shifted_letters = swedish_letters[-1] + swedish_letters[:-1]\n",
    "    else:\n",
    "        return \"Invalid direction. Use 1 for encrypt, 0 for decrypt.\"\n",
    "\n",
    "    # Create translation table and translate\n",
    "    table = str.maketrans(swedish_letters, shifted_letters)\n",
    "    return message.translate(table)\n",
    "choice= int(input(\"enter your choice 1 to encrypt and o fp decrypt\"))\n",
    "text= input(\" enter your text\")\n",
    "result = shift_letters(text,choice)\n",
    "print(\"Result:\", result)"
   ]
  }
 ],
 "metadata": {
  "kernelspec": {
   "display_name": "Python 3",
   "language": "python",
   "name": "python3"
  },
  "language_info": {
   "codemirror_mode": {
    "name": "ipython",
    "version": 3
   },
   "file_extension": ".py",
   "mimetype": "text/x-python",
   "name": "python",
   "nbconvert_exporter": "python",
   "pygments_lexer": "ipython3",
   "version": "3.13.7"
  },
  "orig_nbformat": 4
 },
 "nbformat": 4,
 "nbformat_minor": 2
}

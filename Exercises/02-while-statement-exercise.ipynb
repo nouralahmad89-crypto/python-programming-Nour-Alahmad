{
 "cells": [
  {
   "cell_type": "markdown",
   "metadata": {},
   "source": [
    "<a href=\"https://colab.research.google.com/github/pr0fez/AI24-Programmering/blob/master/Exercises/02-while-statement-exercise.ipynb\" target=\"_parent\"><img align=\"left\" src=\"https://colab.research.google.com/assets/colab-badge.svg\" alt=\"Open In Colab\"/></a> &nbsp; to see hints and answers."
   ]
  },
  {
   "cell_type": "markdown",
   "metadata": {},
   "source": [
    "# while statement exercises\n",
    "\n",
    "---\n",
    "These are introductory exercises in Python with focus in **while** statement.\n",
    "\n",
    "<p class = \"alert alert-info\" role=\"alert\"><b>Remember</b> to use <b>descriptive variable names</b> in order to get readable code </p>\n",
    "\n",
    "<p class = \"alert alert-info\" role=\"alert\"><b>Remember</b> to format your answers in a neat way using <b>f-strings</b>\n",
    "\n",
    "<p class = \"alert alert-info\" role=\"alert\"><b>Remember</b> to format your input questions in a pedagogical way to guide the user\n",
    "\n",
    "The number of stars (\\*), (\\*\\*), (\\*\\*\\*) denotes the difficulty level of the task\n",
    "\n",
    "---"
   ]
  },
  {
   "cell_type": "markdown",
   "metadata": {},
   "source": [
    "## 1. Count numbers (*)\n",
    "\n",
    "Use a **while** statement to count from -10 to 10 with one increment. \n",
    "\n",
    "<details>\n",
    "\n",
    "<summary>Hint </summary>\n",
    "\n",
    "```python\n",
    "\n",
    "i += 1 # adds one and assigns it to i, equivalent to i = i + 1\n",
    "```\n",
    "\n",
    "</details>\n",
    "<br>\n",
    "<details>\n",
    "\n",
    "<summary>Answer </summary>\n",
    "\n",
    "```\n",
    "\n",
    "-10 -9 -8 -7 -6 -5 -4 -3 -2 -1 0 1 2 3 4 5 6 7 8 9 10\n",
    "```\n",
    "\n",
    "</details>\n"
   ]
  },
  {
   "cell_type": "code",
   "execution_count": 2,
   "metadata": {},
   "outputs": [
    {
     "name": "stdout",
     "output_type": "stream",
     "text": [
      "-10 -9 -8 -7 -6 -5 -4 -3 -2 -1 0 1 2 3 4 5 6 7 8 9 10 "
     ]
    }
   ],
   "source": [
    "i= -10\n",
    "while(i<=10):\n",
    "    print(i, end=\" \")\n",
    "    i+=1"
   ]
  },
  {
   "cell_type": "markdown",
   "metadata": {},
   "source": [
    "--- \n",
    "## 2. Arithmetic sum (*)\n",
    "Use a **while** statement to compute the following sums: \n",
    "\n",
    "&nbsp; a) &nbsp; $\\text{sum} = 1 + 2 + \\ldots + 99+ 100$\n",
    "\n",
    "&nbsp; b) &nbsp; $\\text{sum} = 1 + 3 + 5 + \\ldots + 97 + 99$\n",
    "\n",
    "<details>\n",
    "\n",
    "<summary>Answer </summary>\n",
    "\n",
    "```\n",
    "a) 1 + 2 + ... + 99 + 100 = 5050 \n",
    "\n",
    "b) 1 + 3 + 5 +...+ 97 + 99 = 2500\n",
    "```\n",
    "\n",
    "</details>"
   ]
  },
  {
   "cell_type": "code",
   "execution_count": 13,
   "metadata": {},
   "outputs": [
    {
     "name": "stdout",
     "output_type": "stream",
     "text": [
      "5050\n"
     ]
    }
   ],
   "source": [
    "i= 1\n",
    "n= 1\n",
    "while i<100:\n",
    "    n += i + 1\n",
    "    i += 1\n",
    "print(n)\n",
    "\n",
    "\n"
   ]
  },
  {
   "cell_type": "code",
   "execution_count": 14,
   "metadata": {},
   "outputs": [
    {
     "name": "stdout",
     "output_type": "stream",
     "text": [
      "2500\n"
     ]
    }
   ],
   "source": [
    "i= 1\n",
    "n= 1\n",
    "while i<99:\n",
    "    n += i + 2\n",
    "    i += 2\n",
    "print(n)"
   ]
  },
  {
   "cell_type": "code",
   "execution_count": null,
   "metadata": {},
   "outputs": [
    {
     "data": {
      "text/plain": [
       "5050"
      ]
     },
     "execution_count": 15,
     "metadata": {},
     "output_type": "execute_result"
    }
   ],
   "source": [
    "sum(range(1, 101))"
   ]
  },
  {
   "cell_type": "markdown",
   "metadata": {},
   "source": [
    "--- \n",
    "## 3. Guess number game (*)\n",
    "&nbsp; a) &nbsp; Create a guessing number game following this flow chart: \n",
    "\n",
    "<img align=\"left\" src=\"../assets/guessing_game.png\" width=\"300\"/>"
   ]
  },
  {
   "cell_type": "markdown",
   "metadata": {},
   "source": [
    "&nbsp; b) &nbsp; Make an algorithm to automatically guess the correct number. Can you optimize to get as few guesses as possible? (**)\n",
    "\n",
    "<details>\n",
    "\n",
    "<summary>Hint </summary>\n",
    "\n",
    "&nbsp; b) &nbsp; Half your testing number each time \n",
    "\n",
    "</details>"
   ]
  },
  {
   "cell_type": "code",
   "execution_count": 6,
   "metadata": {},
   "outputs": [
    {
     "name": "stdout",
     "output_type": "stream",
     "text": [
      "Your guess is too big, try one more time\n",
      "Your guess is too big, try one more time\n",
      "Your guess is too big, try one more time\n",
      "Your guess is too big, try one more time\n",
      "Your guess is too big, try one more time\n",
      "Your guess is too big, try one more time\n",
      " Congratulations, you guessed correct after 7 guesses\n"
     ]
    }
   ],
   "source": [
    "# a) create a game\n",
    "import random\n",
    "\n",
    "i = random.randint(1, 100)   # random number between 1 and 100\n",
    "n = 1                        # number of guesses\n",
    "\n",
    "guess = int(input(\"Input your choice in guessing game: \"))\n",
    "\n",
    "while True:\n",
    "    if guess == i:\n",
    "        print(f\" Congratulations, you guessed correct after {n} guesses\")\n",
    "        break\n",
    "    else:\n",
    "        if guess < i:\n",
    "            print(\"Your guess is too small, try one more time\")\n",
    "        else:\n",
    "            print(\"Your guess is too big, try one more time\")\n",
    "        \n",
    "        n += 1\n",
    "        guess = int(input(\"Input your choice in guessing game: \"))\n",
    "\n",
    " "
   ]
  },
  {
   "cell_type": "code",
   "execution_count": 7,
   "metadata": {},
   "outputs": [
    {
     "name": "stdout",
     "output_type": "stream",
     "text": [
      "Guess #1: 50\n",
      "Guess #2: 25\n",
      "Guess #3: 12\n",
      "Guess #4: 6\n",
      "Guess #5: 3\n",
      "Guess #6: 1\n",
      "Correct! The number was 1. Total attempts: 6\n"
     ]
    }
   ],
   "source": [
    "# b)optimize to get few guesses as possible\n",
    "import random\n",
    "i= random.randint( 1, 100)\n",
    "n=0\n",
    "low= 1\n",
    "high= 100\n",
    "while True:\n",
    "    guess = (low + high) // 2\n",
    "    n+=1\n",
    "    print(f\"Guess #{n}: {guess}\")\n",
    "    \n",
    "    if guess == i:\n",
    "        print(f\"Correct! The number was {guess}. Total attempts: {n}\")\n",
    "        break\n",
    "    elif guess < i:\n",
    "        low = guess + 1\n",
    "    else:\n",
    "        high = guess - 1\n"
   ]
  },
  {
   "cell_type": "markdown",
   "metadata": {},
   "source": [
    "--- \n",
    "## 4. Multiplication game (*)\n",
    "&nbsp; a) &nbsp; Create a multiplication game following this flow chart: \n",
    "\n",
    "<img align=\"left\" src=\"../assets/Multiplication_game.png\" width=\"300\"/>"
   ]
  },
  {
   "cell_type": "markdown",
   "metadata": {},
   "source": [
    "&nbsp; b) &nbsp; Add a menu for choosing difficulty level of the game\n",
    "\n",
    "&nbsp; c) &nbsp; Feel free to extend this program with features of your choice."
   ]
  },
  {
   "cell_type": "code",
   "execution_count": 12,
   "metadata": {},
   "outputs": [
    {
     "name": "stdout",
     "output_type": "stream",
     "text": [
      "Good work! Your score is now 1.\n",
      "Incorrect. The correct answer is: 27.\n",
      "Thanks for your time. End of the game.\n"
     ]
    }
   ],
   "source": [
    "# a) create a multiplication game\n",
    "import random\n",
    "import numpy as np\n",
    "\n",
    "playagain = 1\n",
    "score = 0\n",
    "\n",
    "while playagain == 1:\n",
    "    x = random.randint(1, 10)\n",
    "    y = random.randint(1, 10)\n",
    "    answer = np.multiply(x, y)\n",
    "    \n",
    "    mul = int(input(f\"Input your answer for {x} x {y}: \"))\n",
    "    \n",
    "    if mul == answer:\n",
    "        score += 1\n",
    "        print(f\"Good work! Your score is now {score}.\")\n",
    "    else:\n",
    "        print(f\"Incorrect. The correct answer is: {answer}.\")\n",
    "    \n",
    "    playagain = int(input(\"Do you want to play again? Enter 1 for yes, 0 for no: \"))\n",
    "\n",
    "print(\"Thanks for your time. End of the game.\")\n",
    "\n",
    "\n"
   ]
  },
  {
   "cell_type": "code",
   "execution_count": null,
   "metadata": {},
   "outputs": [
    {
     "name": "stdout",
     "output_type": "stream",
     "text": [
      "Choose difficulty level:\n",
      "1. Easy (numbers 1-10)\n",
      "2. Medium (numbers 1-20)\n",
      "3. Hard (numbers 1-50)\n"
     ]
    },
    {
     "ename": "ValueError",
     "evalue": "invalid literal for int() with base 10: ''",
     "output_type": "error",
     "traceback": [
      "\u001b[31m---------------------------------------------------------------------------\u001b[39m",
      "\u001b[31mValueError\u001b[39m                                Traceback (most recent call last)",
      "\u001b[36mCell\u001b[39m\u001b[36m \u001b[39m\u001b[32mIn[15]\u001b[39m\u001b[32m, line 12\u001b[39m\n\u001b[32m      9\u001b[39m \u001b[38;5;28mprint\u001b[39m(\u001b[33m\"\u001b[39m\u001b[33m2. Medium (numbers 1-20)\u001b[39m\u001b[33m\"\u001b[39m)\n\u001b[32m     10\u001b[39m \u001b[38;5;28mprint\u001b[39m(\u001b[33m\"\u001b[39m\u001b[33m3. Hard (numbers 1-50)\u001b[39m\u001b[33m\"\u001b[39m)\n\u001b[32m---> \u001b[39m\u001b[32m12\u001b[39m difficulty = \u001b[38;5;28;43mint\u001b[39;49m\u001b[43m(\u001b[49m\u001b[38;5;28;43minput\u001b[39;49m\u001b[43m(\u001b[49m\u001b[33;43m\"\u001b[39;49m\u001b[33;43mEnter 1, 2, or 3: \u001b[39;49m\u001b[33;43m\"\u001b[39;49m\u001b[43m)\u001b[49m\u001b[43m)\u001b[49m\n\u001b[32m     14\u001b[39m \u001b[38;5;28;01mif\u001b[39;00m difficulty == \u001b[32m1\u001b[39m:\n\u001b[32m     15\u001b[39m     max_number = \u001b[32m10\u001b[39m\n",
      "\u001b[31mValueError\u001b[39m: invalid literal for int() with base 10: ''"
     ]
    }
   ],
   "source": [
    "# b) add menu to choose the difficulty\n",
    "# 1-10 easy  , 1-20 medium , 1-50 hard\n",
    "import random\n",
    "import numpy as np\n",
    "\n",
    "# Menu for difficulty\n",
    "print(\"Choose difficulty level:\")\n",
    "print(\"1. Easy (numbers 1-10)\")\n",
    "print(\"2. Medium (numbers 1-20)\")\n",
    "print(\"3. Hard (numbers 1-50)\")\n",
    "\n",
    "difficulty = int(input(\"Enter 1, 2, or 3: \"))\n",
    "\n",
    "if difficulty == 1:\n",
    "    max_number = 10\n",
    "elif difficulty == 2:\n",
    "    max_number = 20\n",
    "elif difficulty == 3:\n",
    "    max_number = 50\n",
    "else:\n",
    "    print(\"Invalid choice, defaulting to Easy level.\")\n",
    "    max_number = 10\n",
    "\n",
    "playagain = 1\n",
    "score = 0\n",
    "\n",
    "while playagain == 1:\n",
    "    x = random.randint(1, max_number)\n",
    "    y = random.randint(1, max_number)\n",
    "    answer = np.multiply(x, y)\n",
    "    \n",
    "    mul = int(input(f\"Input your answer for {x} x {y}: \"))\n",
    "    \n",
    "    if mul == answer:\n",
    "        score += 1\n",
    "        print(f\"Good work! Your score is now {score}.\")\n",
    "    else:\n",
    "        print(f\"Incorrect. The correct answer is: {answer}.\")\n",
    "    \n",
    "    playagain = int(input(\"Do you want to play again? Enter 1 for yes, 0 for no: \"))\n",
    "\n",
    "print(f\"Thanks for your time. Your final score is {score}. End of the game.\")\n",
    "\n"
   ]
  },
  {
   "cell_type": "markdown",
   "metadata": {},
   "source": [
    "--- \n",
    "## 5. Check convergence (**)\n",
    "Use a while statement to compute the following sums: \n",
    "\n",
    "&nbsp; a) &nbsp; $\\text{sum} = 1 + \\frac{1}{2} + \\frac{1}{4} + \\frac{1}{8} + \\dots + \\frac{1}{2^n}$\n",
    "\n",
    "&nbsp; b) &nbsp; $\\text{sum} = 1 - \\frac{1}{3} + \\frac{1}{5} - \\frac{1}{7} + \\dots + \\frac{(-1)^n}{2n+1}$\n",
    "\n",
    "Try different values on $n$ to see which value it converges to.\n",
    "\n",
    "<details>\n",
    "\n",
    "<summary>Answer </summary>\n",
    "\n",
    "&nbsp; a) &nbsp; $1 + \\frac{1}{2} + \\frac{1}{4} + \\frac{1}{8} + \\dots + \\frac{1}{2^n} \\xrightarrow[n\\rightarrow \\infty]{} 2$ \n",
    "\n",
    "&nbsp; b) &nbsp; $ 1 - \\frac{1}{3} + \\frac{1}{5} - \\frac{1}{7} + \\dots + \\frac{(-1)^n}{2n+1} \\xrightarrow[n\\rightarrow \\infty]{} \\frac{\\pi}{4}$\n",
    "\n",
    "</details>"
   ]
  },
  {
   "cell_type": "code",
   "execution_count": 16,
   "metadata": {},
   "outputs": [
    {
     "name": "stdout",
     "output_type": "stream",
     "text": [
      "The sum converges to approximately: 1.9999980926513672\n"
     ]
    }
   ],
   "source": [
    "# Part (a) - sum of 1 + 1/2 + 1/4 + 1/8 + ...\n",
    "sum_a = 0\n",
    "term = 1  # first term\n",
    "n = 0\n",
    "\n",
    "while term > 1e-6:  # stop when term is very small\n",
    "    sum_a += term\n",
    "    n += 1\n",
    "    term = 1 / (2 ** n)\n",
    "\n",
    "print(f\"The sum converges to approximately: {sum_a}\")\n"
   ]
  },
  {
   "cell_type": "code",
   "execution_count": 17,
   "metadata": {},
   "outputs": [
    {
     "name": "stdout",
     "output_type": "stream",
     "text": [
      "The sum is approximately: 0.7853986633964231\n",
      "Multiply by 4 to approximate pi: 3.1415946535856922\n"
     ]
    }
   ],
   "source": [
    "# part (b) \n",
    "import numpy as np\n",
    "sum_b= 0\n",
    "n= 0\n",
    "# compute the term = (-1)**n/( 2*n+1)\n",
    "\n",
    "term = 1  # first term\n",
    "\n",
    "while abs(term) > 1e-6:  # stop when term is tiny\n",
    "   term = (-1)**n / (2*n + 1)\n",
    "   sum_b+= term\n",
    "   n+=1\n",
    "\n",
    "print(\"The sum is approximately:\", sum_b)\n",
    "print(\"Multiply by 4 to approximate pi:\", 4*sum_b)\n"
   ]
  }
 ],
 "metadata": {
  "kernelspec": {
   "display_name": "Python 3",
   "language": "python",
   "name": "python3"
  },
  "language_info": {
   "codemirror_mode": {
    "name": "ipython",
    "version": 3
   },
   "file_extension": ".py",
   "mimetype": "text/x-python",
   "name": "python",
   "nbconvert_exporter": "python",
   "pygments_lexer": "ipython3",
   "version": "3.13.7"
  },
  "orig_nbformat": 4
 },
 "nbformat": 4,
 "nbformat_minor": 2
}

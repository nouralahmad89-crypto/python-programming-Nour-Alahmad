{
 "cells": [
  {
   "cell_type": "markdown",
   "metadata": {},
   "source": [
    "<a href=\"https://colab.research.google.com/github/pr0fez/AI24-Programmering/blob/master/Exercises/02-while-statement-exercise.ipynb\" target=\"_parent\"><img align=\"left\" src=\"https://colab.research.google.com/assets/colab-badge.svg\" alt=\"Open In Colab\"/></a> &nbsp; to see hints and answers."
   ]
  },
  {
   "cell_type": "markdown",
   "metadata": {},
   "source": [
    "# while statement exercises\n",
    "\n",
    "---\n",
    "These are introductory exercises in Python with focus in **while** statement.\n",
    "\n",
    "<p class = \"alert alert-info\" role=\"alert\"><b>Remember</b> to use <b>descriptive variable names</b> in order to get readable code </p>\n",
    "\n",
    "<p class = \"alert alert-info\" role=\"alert\"><b>Remember</b> to format your answers in a neat way using <b>f-strings</b>\n",
    "\n",
    "<p class = \"alert alert-info\" role=\"alert\"><b>Remember</b> to format your input questions in a pedagogical way to guide the user\n",
    "\n",
    "The number of stars (\\*), (\\*\\*), (\\*\\*\\*) denotes the difficulty level of the task\n",
    "\n",
    "---"
   ]
  },
  {
   "cell_type": "markdown",
   "metadata": {},
   "source": [
    "## 1. Count numbers (*)\n",
    "\n",
    "Use a **while** statement to count from -10 to 10 with one increment. \n",
    "\n",
    "<details>\n",
    "\n",
    "<summary>Hint </summary>\n",
    "\n",
    "```python\n",
    "\n",
    "i += 1 # adds one and assigns it to i, equivalent to i = i + 1\n",
    "```\n",
    "\n",
    "</details>\n",
    "<br>\n",
    "<details>\n",
    "\n",
    "<summary>Answer </summary>\n",
    "\n",
    "```\n",
    "\n",
    "-10 -9 -8 -7 -6 -5 -4 -3 -2 -1 0 1 2 3 4 5 6 7 8 9 10\n",
    "```\n",
    "\n",
    "</details>\n"
   ]
  },
  {
   "cell_type": "code",
   "execution_count": 2,
   "metadata": {},
   "outputs": [
    {
     "name": "stdout",
     "output_type": "stream",
     "text": [
      "-10 -9 -8 -7 -6 -5 -4 -3 -2 -1 0 1 2 3 4 5 6 7 8 9 10 "
     ]
    }
   ],
   "source": [
    "i= -10\n",
    "while(i<=10):\n",
    "    print(i, end=\" \")\n",
    "    i+=1"
   ]
  },
  {
   "cell_type": "markdown",
   "metadata": {},
   "source": [
    "--- \n",
    "## 2. Arithmetic sum (*)\n",
    "Use a **while** statement to compute the following sums: \n",
    "\n",
    "&nbsp; a) &nbsp; $\\text{sum} = 1 + 2 + \\ldots + 99+ 100$\n",
    "\n",
    "&nbsp; b) &nbsp; $\\text{sum} = 1 + 3 + 5 + \\ldots + 97 + 99$\n",
    "\n",
    "<details>\n",
    "\n",
    "<summary>Answer </summary>\n",
    "\n",
    "```\n",
    "a) 1 + 2 + ... + 99 + 100 = 5050 \n",
    "\n",
    "b) 1 + 3 + 5 +...+ 97 + 99 = 2500\n",
    "```\n",
    "\n",
    "</details>"
   ]
  },
  {
   "cell_type": "code",
   "execution_count": 13,
   "metadata": {},
   "outputs": [
    {
     "name": "stdout",
     "output_type": "stream",
     "text": [
      "5050\n"
     ]
    }
   ],
   "source": [
    "i= 1\n",
    "n= 1\n",
    "while i<100:\n",
    "    n += i + 1\n",
    "    i += 1\n",
    "print(n)\n",
    "\n",
    "\n"
   ]
  },
  {
   "cell_type": "code",
   "execution_count": 14,
   "metadata": {},
   "outputs": [
    {
     "name": "stdout",
     "output_type": "stream",
     "text": [
      "2500\n"
     ]
    }
   ],
   "source": [
    "i= 1\n",
    "n= 1\n",
    "while i<99:\n",
    "    n += i + 2\n",
    "    i += 2\n",
    "print(n)"
   ]
  },
  {
   "cell_type": "code",
   "execution_count": null,
   "metadata": {},
   "outputs": [
    {
     "data": {
      "text/plain": [
       "5050"
      ]
     },
     "execution_count": 15,
     "metadata": {},
     "output_type": "execute_result"
    }
   ],
   "source": [
    "sum(range(1, 101))"
   ]
  },
  {
   "cell_type": "markdown",
   "metadata": {},
   "source": [
    "--- \n",
    "## 3. Guess number game (*)\n",
    "&nbsp; a) &nbsp; Create a guessing number game following this flow chart: \n",
    "\n",
    "<img align=\"left\" src=\"../assets/guessing_game.png\" width=\"300\"/>"
   ]
  },
  {
   "cell_type": "markdown",
   "metadata": {},
   "source": [
    "&nbsp; b) &nbsp; Make an algorithm to automatically guess the correct number. Can you optimize to get as few guesses as possible? (**)\n",
    "\n",
    "<details>\n",
    "\n",
    "<summary>Hint </summary>\n",
    "\n",
    "&nbsp; b) &nbsp; Half your testing number each time \n",
    "\n",
    "</details>"
   ]
  },
  {
   "cell_type": "code",
   "execution_count": null,
   "metadata": {},
   "outputs": [],
   "source": [
    "import random\n",
    "import numpy as np\n"
   ]
  },
  {
   "cell_type": "markdown",
   "metadata": {},
   "source": [
    "--- \n",
    "## 4. Multiplication game (*)\n",
    "&nbsp; a) &nbsp; Create a multiplication game following this flow chart: \n",
    "\n",
    "<img align=\"left\" src=\"../assets/Multiplication_game.png\" width=\"300\"/>"
   ]
  },
  {
   "cell_type": "markdown",
   "metadata": {},
   "source": [
    "&nbsp; b) &nbsp; Add a menu for choosing difficulty level of the game\n",
    "\n",
    "&nbsp; c) &nbsp; Feel free to extend this program with features of your choice."
   ]
  },
  {
   "cell_type": "markdown",
   "metadata": {},
   "source": [
    "--- \n",
    "## 5. Check convergence (**)\n",
    "Use a while statement to compute the following sums: \n",
    "\n",
    "&nbsp; a) &nbsp; $\\text{sum} = 1 + \\frac{1}{2} + \\frac{1}{4} + \\frac{1}{8} + \\dots + \\frac{1}{2^n}$\n",
    "\n",
    "&nbsp; b) &nbsp; $\\text{sum} = 1 - \\frac{1}{3} + \\frac{1}{5} - \\frac{1}{7} + \\dots + \\frac{(-1)^n}{2n+1}$\n",
    "\n",
    "Try different values on $n$ to see which value it converges to.\n",
    "\n",
    "<details>\n",
    "\n",
    "<summary>Answer </summary>\n",
    "\n",
    "&nbsp; a) &nbsp; $1 + \\frac{1}{2} + \\frac{1}{4} + \\frac{1}{8} + \\dots + \\frac{1}{2^n} \\xrightarrow[n\\rightarrow \\infty]{} 2$ \n",
    "\n",
    "&nbsp; b) &nbsp; $ 1 - \\frac{1}{3} + \\frac{1}{5} - \\frac{1}{7} + \\dots + \\frac{(-1)^n}{2n+1} \\xrightarrow[n\\rightarrow \\infty]{} \\frac{\\pi}{4}$\n",
    "\n",
    "</details>"
   ]
  },
  {
   "cell_type": "code",
   "execution_count": null,
   "metadata": {},
   "outputs": [],
   "source": [
    "n= 0\n",
    "while n<= 100:\n",
    "    print( sum())"
   ]
  }
 ],
 "metadata": {
  "kernelspec": {
   "display_name": "Python 3",
   "language": "python",
   "name": "python3"
  },
  "language_info": {
   "codemirror_mode": {
    "name": "ipython",
    "version": 3
   },
   "file_extension": ".py",
   "mimetype": "text/x-python",
   "name": "python",
   "nbconvert_exporter": "python",
   "pygments_lexer": "ipython3",
   "version": "3.13.7"
  },
  "orig_nbformat": 4
 },
 "nbformat": 4,
 "nbformat_minor": 2
}
